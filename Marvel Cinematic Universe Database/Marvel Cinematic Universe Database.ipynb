{
 "cells": [
  {
   "cell_type": "markdown",
   "id": "6bab03dc-2a7e-4d43-a0d0-fd21a7f48510",
   "metadata": {},
   "source": [
    "# Import the necessary Python Libraries"
   ]
  },
  {
   "cell_type": "code",
   "execution_count": 2,
   "id": "8f20aa22-e41c-48ce-8fe4-bd0d5c69aafd",
   "metadata": {},
   "outputs": [],
   "source": [
    "import sqlite3\n",
    "import pandas as pd\n",
    "import numpy as np\n",
    "import matplotlib.pyplot as plt"
   ]
  },
  {
   "cell_type": "code",
   "execution_count": 3,
   "id": "211a357f-8b12-4db3-9fc8-8c7cf6f1462b",
   "metadata": {},
   "outputs": [],
   "source": [
    "# establish connection\n",
    "con = sqlite3.connect('MCU.db')\n",
    "\n",
    "# create a cursor to interact with the database\n",
    "cursor = con.cursor()\n"
   ]
  },
  {
   "cell_type": "markdown",
   "id": "c1e723fb-ab65-41e9-986f-9c14ffbd9909",
   "metadata": {},
   "source": [
    "# Create the Table"
   ]
  },
  {
   "cell_type": "code",
   "execution_count": 5,
   "id": "4abdd3bb-877c-42f6-b70e-deb64a603812",
   "metadata": {},
   "outputs": [
    {
     "ename": "OperationalError",
     "evalue": "table Movies already exists",
     "output_type": "error",
     "traceback": [
      "\u001b[31m---------------------------------------------------------------------------\u001b[39m",
      "\u001b[31mOperationalError\u001b[39m                          Traceback (most recent call last)",
      "\u001b[36mCell\u001b[39m\u001b[36m \u001b[39m\u001b[32mIn[5]\u001b[39m\u001b[32m, line 2\u001b[39m\n\u001b[32m      1\u001b[39m \u001b[38;5;66;03m# create a database table Movies with columns for title, release year, and review score\u001b[39;00m\n\u001b[32m----> \u001b[39m\u001b[32m2\u001b[39m \u001b[43mcursor\u001b[49m\u001b[43m.\u001b[49m\u001b[43mexecute\u001b[49m\u001b[43m(\u001b[49m\u001b[33;43m'''\u001b[39;49m\u001b[33;43m CREATE TABLE Movies(\u001b[39;49m\n\u001b[32m      3\u001b[39m \u001b[33;43mmovie_id PRIMARY KEY,\u001b[39;49m\n\u001b[32m      4\u001b[39m \u001b[33;43mtitle TEXT,\u001b[39;49m\n\u001b[32m      5\u001b[39m \u001b[33;43myear INTEGER,\u001b[39;49m\n\u001b[32m      6\u001b[39m \u001b[33;43mscore REAL\u001b[39;49m\n\u001b[32m      7\u001b[39m \u001b[33;43m)    \u001b[39;49m\n\u001b[32m      8\u001b[39m \u001b[33;43m'''\u001b[39;49m\u001b[43m)\u001b[49m\n",
      "\u001b[31mOperationalError\u001b[39m: table Movies already exists"
     ]
    }
   ],
   "source": [
    "# create a database table Movies with columns for title, release year, and review score\n",
    "cursor.execute(''' CREATE TABLE Movies(\n",
    "movie_id PRIMARY KEY,\n",
    "title TEXT,\n",
    "year INTEGER,\n",
    "score REAL\n",
    ")    \n",
    "''')"
   ]
  },
  {
   "cell_type": "code",
   "execution_count": null,
   "id": "09663066-0a99-4340-8f7d-3f08bd02e70a",
   "metadata": {},
   "outputs": [],
   "source": [
    "# verify to see if new table has been created\n",
    "res = cursor.execute(\"SELECT name FROM sqlite_master\")\n",
    "\n",
    "res.fetchone()\n"
   ]
  },
  {
   "cell_type": "markdown",
   "id": "e271662f-118f-4d53-8a71-8cddf62e01f5",
   "metadata": {},
   "source": [
    "# Insert data into Table"
   ]
  },
  {
   "cell_type": "code",
   "execution_count": null,
   "id": "ff002c0e-bac7-48ab-8ee9-b50f9c4845a0",
   "metadata": {},
   "outputs": [],
   "source": [
    "# create a list of Marvel Cinematic Movies\n",
    "Movies = [\n",
    "    (1001, 'Iron Man', 2008, 7.9),\n",
    "    (1002, 'The Incredible Hulk', 2008, 6.7),\n",
    "    (1003, 'Iron Man 2', 2010, 7.0),\n",
    "    (1004, 'Thor', 2011, 7.0),\n",
    "    (1005, 'Captain America: The First Avenger', 2011, 6.9),\n",
    "    (1006, 'The Avengers', 2012, 8.0),\n",
    "    (1007, 'Iron Man 3', 2013, 7.2),\n",
    "    (1008, 'Thor: The Dark World', 2013, 6.9),\n",
    "    (1009, 'Captain America: The Winter Soldier', 2014, 7.7),\n",
    "    (1010, 'Guardians of the Galaxy', 2014, 8.0),\n",
    "    (1011, 'Avengers: Age of Ultron', 2015, 7.3),\n",
    "    (1012, 'Ant-Man', 2015, 7.3),\n",
    "    (1013, 'Captain America: Civil War', 2016, 7.8),\n",
    "    (1014, 'Doctor Strange', 2016, 7.5),\n",
    "    (1015, 'Guardians of the Galaxy Vol. 2', 2017, 7.6),\n",
    "    (1016, 'Spider-Man: Homecoming', 2017, 7.4),\n",
    "    (1017, 'Thor: Ragnarok', 2017, 7.9),\n",
    "    (1018, 'Black Panther', 2018, 7.3),\n",
    "    (1019, 'Avengers: Infinity War', 2018, 8.4),\n",
    "    (1020, 'Ant-Man and The Wasp', 2018, 7.1),\n",
    "    (1021, 'Captain Marvel', 2019, 6.9),\n",
    "    (1022, 'Avengers: Endgame', 2019, 8.4),\n",
    "]\n",
    "\n",
    "cursor.executemany('INSERT INTO Movies VALUES (?,?,?,?)', Movies)\n",
    "\n",
    "con.commit()"
   ]
  },
  {
   "cell_type": "code",
   "execution_count": null,
   "id": "97e9f8ec-a9e5-4aa2-a6c8-1497299c3404",
   "metadata": {},
   "outputs": [],
   "source": [
    "# outputs the movie dataframe in a lsit format\n",
    "res = cursor.execute('SELECT * FROM Movies')\n",
    "res.fetchall()"
   ]
  },
  {
   "cell_type": "code",
   "execution_count": null,
   "id": "e0e87391-3778-42e0-80c2-d0a9f87c6c3c",
   "metadata": {},
   "outputs": [],
   "source": [
    "# reading the list of movies using pandas\n",
    "# store SQL query in a variable called 'query'\n",
    "query = 'SELECT * FROM Movies'\n",
    "# stores the movie dataframe in a variable called 'df'\n",
    "df = pd.read_sql(query, con)\n",
    "df"
   ]
  },
  {
   "cell_type": "markdown",
   "id": "c89b8194-2256-42eb-9b8f-0a1c13c97bb9",
   "metadata": {},
   "source": [
    "# 'SELECT score FROM Movies'"
   ]
  },
  {
   "cell_type": "code",
   "execution_count": null,
   "id": "a1c769e4-6f1c-4650-8d49-a7d310400cd1",
   "metadata": {},
   "outputs": [],
   "source": [
    "query = 'SELECT score FROM Movies'\n",
    "pd.read_sql(query, con)"
   ]
  },
  {
   "cell_type": "markdown",
   "id": "c465fd6c-674b-4056-90cd-3606ec51009a",
   "metadata": {},
   "source": [
    "# 'SELECT year, title FROM MCU_Movies ORDER BY year'"
   ]
  },
  {
   "cell_type": "code",
   "execution_count": null,
   "id": "babe9822-a714-4589-a518-240148f0bc07",
   "metadata": {},
   "outputs": [],
   "source": [
    "query = 'SELECT year, title FROM Movies ORDER BY year'\n",
    "pd.read_sql(query, con)"
   ]
  },
  {
   "cell_type": "markdown",
   "id": "24313f47-4388-4a2e-b57d-a002a8e939eb",
   "metadata": {},
   "source": [
    "# 'SELECT title, year FROM MCU_Movies ORDER BY score DESC'"
   ]
  },
  {
   "cell_type": "code",
   "execution_count": null,
   "id": "e7717ae3-08f8-401d-98fc-3822996492a7",
   "metadata": {},
   "outputs": [],
   "source": [
    "query = 'SELECT title, year FROM movies ORDER BY score DESC'\n",
    "pd.read_sql(query, con)"
   ]
  },
  {
   "cell_type": "code",
   "execution_count": null,
   "id": "04b75995-8312-4555-ad03-80d331ba0c17",
   "metadata": {},
   "outputs": [],
   "source": []
  }
 ],
 "metadata": {
  "kernelspec": {
   "display_name": "Python [conda env:base] *",
   "language": "python",
   "name": "conda-base-py"
  },
  "language_info": {
   "codemirror_mode": {
    "name": "ipython",
    "version": 3
   },
   "file_extension": ".py",
   "mimetype": "text/x-python",
   "name": "python",
   "nbconvert_exporter": "python",
   "pygments_lexer": "ipython3",
   "version": "3.12.7"
  }
 },
 "nbformat": 4,
 "nbformat_minor": 5
}
